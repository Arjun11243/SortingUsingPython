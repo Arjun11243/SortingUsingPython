{
  "nbformat": 4,
  "nbformat_minor": 0,
  "metadata": {
    "colab": {
      "provenance": [],
      "authorship_tag": "ABX9TyODtNPRRyhViv2OsA4lRGgE",
      "include_colab_link": true
    },
    "kernelspec": {
      "name": "python3",
      "display_name": "Python 3"
    },
    "language_info": {
      "name": "python"
    }
  },
  "cells": [
    {
      "cell_type": "markdown",
      "metadata": {
        "id": "view-in-github",
        "colab_type": "text"
      },
      "source": [
        "<a href=\"https://colab.research.google.com/github/Arjun11243/SortingUsingPython/blob/main/QuickSort.ipynb\" target=\"_parent\"><img src=\"https://colab.research.google.com/assets/colab-badge.svg\" alt=\"Open In Colab\"/></a>"
      ]
    },
    {
      "cell_type": "code",
      "source": [
        "def partition(array,low,high):\n",
        "    pivot = array[low]\n",
        "    i = low + 1\n",
        "    j = high\n",
        "\n",
        "    while (i < j):\n",
        "        while (array[i] <= pivot):\n",
        "            i=i+1\n",
        "        while (array[j] > pivot):\n",
        "            j=j-1\n",
        "\n",
        "        if (i < j):\n",
        "            (array[i],array[j])=(array[j],array[i])\n",
        "            #temp = array[i]\n",
        "            #array[i] = array[j]\n",
        "            #array[j] = temp\n",
        "\n",
        "    #temp = array[low]\n",
        "    #array[low] = array[j]\n",
        "    #array[j] = temp\n",
        "    (array[low],array[j])=(array[j],array[low])\n",
        "    return j\n",
        "def quicksort(array,low,high):\n",
        "    if (low < high):\n",
        "        partitionindex = partition(array, low, high)\n",
        "        quicksort(array, low, partitionindex - 1)\n",
        "        quicksort(array, partitionindex + 1, high)\n",
        "    return array\n",
        "test = [21, 4, 1, 3, 9, 20, 25, 6, 21, 14]\n",
        "n=len(test)\n",
        "print (quicksort(test,0,n-1))"
      ],
      "metadata": {
        "id": "IZRkiIs5-xrc",
        "colab": {
          "base_uri": "https://localhost:8080/"
        },
        "outputId": "059a82c3-86dc-43ab-dc96-b0062b2aa6cb"
      },
      "execution_count": 1,
      "outputs": [
        {
          "output_type": "stream",
          "name": "stdout",
          "text": [
            "[1, 3, 4, 6, 9, 14, 20, 21, 21, 25]\n"
          ]
        }
      ]
    }
  ]
}